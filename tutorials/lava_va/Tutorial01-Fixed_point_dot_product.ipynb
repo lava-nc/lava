{
 "cells": [
  {
   "cell_type": "markdown",
   "id": "3cd2e32f",
   "metadata": {},
   "source": [
    "*Copyright (C) 2022-23 Intel Corporation*<br>\n",
    "*SPDX-License-Identifier: BSD-3-Clause*<br>\n",
    "*See: https://spdx.org/licenses/*\n",
    "\n",
    "---\n",
    "\n",
    "# Tutorial 1: An Introduction to Graded Spikes and Fixed-point computations\n",
    "\n",
    "**Motivation:** In this tutorial, we will discuss the basics of Lava vector algebra API and computing with graded spikes on Loihi 2. This tutorial will demonstrate simple dot-product matrix operations using graded spikes.\n",
    "\n",
    "\n"
   ]
  },
  {
   "cell_type": "code",
   "execution_count": 1,
   "id": "72b82564",
   "metadata": {},
   "outputs": [],
   "source": [
    "from pylab import *"
   ]
  },
  {
   "cell_type": "markdown",
   "id": "816aceb0",
   "metadata": {},
   "source": [
    "Lava-VA includes a new set of processes that are compatible with Loihi 2. \n",
    "\n",
    "First, we can import some of the standard library using an import package. These are designed to make importing the standard libraries more simple and accessible.\n"
   ]
  },
  {
   "cell_type": "code",
   "execution_count": 2,
   "id": "af469544",
   "metadata": {},
   "outputs": [],
   "source": [
    "import lava.frameworks.loihi2 as lv"
   ]
  },
  {
   "cell_type": "markdown",
   "id": "3a39c84c",
   "metadata": {},
   "source": [
    "Next, we'll get access to Loihi 2, or we can use the CPU backend."
   ]
  },
  {
   "cell_type": "code",
   "execution_count": 3,
   "id": "cf6e92dd",
   "metadata": {},
   "outputs": [
    {
     "name": "stdout",
     "output_type": "stream",
     "text": [
      "Running on Loihi 2\n"
     ]
    }
   ],
   "source": [
    "from lava.utils import loihi\n",
    "\n",
    "loihi.use_slurm_host(loihi_gen=loihi.ChipGeneration.N3B3)\n",
    "use_loihi2 = loihi.is_installed()\n",
    "\n",
    "if use_loihi2:\n",
    "    run_cfg = lv.Loihi2HwCfg()\n",
    "    print(\"Running on Loihi 2\")\n",
    "else:\n",
    "    run_cfg = lv.Loihi2SimCfg(select_tag='fixed_pt')\n",
    "    print(\"Loihi2 compiler is not available in this system. \"\n",
    "          \"This tutorial will execute on CPU backend.\")"
   ]
  },
  {
   "cell_type": "markdown",
   "id": "d2816267",
   "metadata": {},
   "source": [
    "Now, lets setup some inputs, and create the structure for our Loihi 2 algorithm. "
   ]
  },
  {
   "cell_type": "code",
   "execution_count": 4,
   "id": "9c3c5a76",
   "metadata": {},
   "outputs": [],
   "source": [
    "vec = np.array([40, 30, 20, 10])\n",
    "weights = np.zeros((3,4))\n",
    "weights[:, 0] = [8, 9, -7]\n",
    "weights[:, 1] = [9, 8, -5]\n",
    "weights[:, 2] = [8, -10, -4]\n",
    "weights[:, 3] = [8, -10, -3]\n",
    "\n",
    "# Note: we define the weights using floating points,\n",
    "# this will create the equivalent fixed-point \n",
    "# representation on Loihi 2. We use the weight_exp to \n",
    "# set the dynamic range. The dynamic range is:\n",
    "# weight_exp = 8 -- [-1, 1)\n",
    "# weight_exp = 7 -- [-2, 2)\n",
    "# weight_exp = 6 -- [-4, 4)\n",
    "# ...\n",
    "# weight_exp = 1 -- [-128, 128)\n",
    "weights /= 10\n",
    "weight_exp = 7"
   ]
  },
  {
   "cell_type": "code",
   "execution_count": 5,
   "id": "48b567d1",
   "metadata": {},
   "outputs": [],
   "source": [
    "num_steps=16"
   ]
  },
  {
   "cell_type": "code",
   "execution_count": 6,
   "id": "09c97cca",
   "metadata": {},
   "outputs": [],
   "source": [
    "inp_data = np.zeros((vec.shape[0], num_steps))\n",
    "inp_data[:, 1] = vec.ravel()\n",
    "inp_data[:, 3] = 4*vec.ravel()\n",
    "inp_data[:, 5] = 16*vec.ravel()\n",
    "inp_data[:, 7] = 64*vec.ravel()\n",
    "inp_data[:, 9] = 256*vec.ravel()"
   ]
  },
  {
   "cell_type": "markdown",
   "id": "41d911d8",
   "metadata": {},
   "source": [
    "In this case, I have created an input vector and some weights, and then I will send the input vector in with different magnitudes at different timesteps."
   ]
  },
  {
   "cell_type": "markdown",
   "id": "e88436b4",
   "metadata": {},
   "source": [
    "Next, we use the standard library to create the input layer, the synaptic weights, the neuron layer, and the readout layer."
   ]
  },
  {
   "cell_type": "code",
   "execution_count": 7,
   "id": "7590a9fc",
   "metadata": {},
   "outputs": [],
   "source": [
    "invec = lv.InputVec(inp_data, loihi2=use_loihi2)\n",
    "\n",
    "in_out_syn = lv.GradedDense(weights=weights, exp=weight_exp)\n",
    "\n",
    "outvec = lv.GradedVec(shape=(weights.shape[0],), vth=1)\n",
    "\n",
    "out_monitor = lv.OutputVec(shape=outvec.shape, buffer=num_steps, loihi2=use_loihi2)\n"
   ]
  },
  {
   "cell_type": "markdown",
   "id": "129d701b",
   "metadata": {},
   "source": [
    "There is a new interface that includes the ability to incorporate operator overloading. This allows constructions of Networks based on an algebraic syntax.\n",
    "\n"
   ]
  },
  {
   "cell_type": "code",
   "execution_count": 8,
   "id": "97e62916",
   "metadata": {},
   "outputs": [
    {
     "data": {
      "text/plain": [
       "<lava.networks.gradedvecnetwork.OutputVec at 0x7ff364fbb220>"
      ]
     },
     "execution_count": 8,
     "metadata": {},
     "output_type": "execute_result"
    }
   ],
   "source": [
    "outvec << in_out_syn @ invec\n",
    "out_monitor << outvec"
   ]
  },
  {
   "cell_type": "markdown",
   "id": "a7b70c79",
   "metadata": {},
   "source": [
    "Now we can run the network."
   ]
  },
  {
   "cell_type": "code",
   "execution_count": 9,
   "id": "6b2c0862",
   "metadata": {},
   "outputs": [],
   "source": [
    "try:\n",
    "    outvec.run(condition=lv.RunSteps(num_steps=num_steps),\n",
    "              run_cfg=run_cfg)\n",
    "    out_data = out_monitor.get_data()\n",
    "finally:\n",
    "    outvec.stop()"
   ]
  },
  {
   "cell_type": "markdown",
   "id": "0668d3be",
   "metadata": {},
   "source": [
    "What we should see is the dot product of the input vector. Since we incremented the input strength, the entire vector output will also grow proportionally."
   ]
  },
  {
   "cell_type": "code",
   "execution_count": 10,
   "id": "c3cad817",
   "metadata": {},
   "outputs": [
    {
     "data": {
      "text/plain": [
       "array([[    83,    331,   1321,   5280,  21120],\n",
       "       [    30,    119,    473,   1890,   7560],\n",
       "       [   -54,   -218,   -868,  -3470, -13880]], dtype=int32)"
      ]
     },
     "execution_count": 10,
     "metadata": {},
     "output_type": "execute_result"
    }
   ],
   "source": [
    "out_data[:,2:11:2]"
   ]
  },
  {
   "cell_type": "code",
   "execution_count": 11,
   "id": "552f017a",
   "metadata": {},
   "outputs": [
    {
     "data": {
      "text/plain": [
       "array([ 83.,  30., -54.])"
      ]
     },
     "execution_count": 11,
     "metadata": {},
     "output_type": "execute_result"
    }
   ],
   "source": [
    "weights @ vec"
   ]
  },
  {
   "cell_type": "markdown",
   "id": "c53991fb",
   "metadata": {},
   "source": [
    "There may be some rounding differences due to the rounding of the values, but we see the correct values compared to the numpy calculation."
   ]
  },
  {
   "cell_type": "markdown",
   "id": "a93b4a44",
   "metadata": {},
   "source": [
    "## Addition operator overload\n",
    "\n",
    "As a second example we will create two weight matrices and show how the additionn operator overload can be used.\n"
   ]
  },
  {
   "cell_type": "code",
   "execution_count": 12,
   "id": "dd826827",
   "metadata": {},
   "outputs": [],
   "source": [
    "# Defining two input streams\n",
    "vec = np.array([40, 30, 20, 10])\n",
    "weights = np.zeros((3,4))\n",
    "weights[:, 0] = [8, 9, -7]\n",
    "weights[:, 1] = [9, 8, -5]\n",
    "weights[:, 2] = [8, -10, -4]\n",
    "weights[:, 3] = [8, -10, -3]\n",
    "\n",
    "vec2 = np.array([50, -50, 20, -20])\n",
    "weights2 = np.zeros((3,4))\n",
    "weights2[:, 0] = [3, -5, 4]\n",
    "weights2[:, 1] = [0, -2, -10]\n",
    "weights2[:, 2] = [6, 8, -4]\n",
    "weights2[:, 3] = [-5, 7, -7]\n",
    "\n",
    "weights /= 10\n",
    "weights2 /= 10\n",
    "\n",
    "weight_exp = 7\n"
   ]
  },
  {
   "cell_type": "code",
   "execution_count": 13,
   "id": "1802b046",
   "metadata": {},
   "outputs": [],
   "source": [
    "num_steps=16\n",
    "\n",
    "inp_data = np.zeros((vec.shape[0], num_steps))\n",
    "inp_data[:, 1] = vec.ravel()\n",
    "inp_data[:, 3] = 4*vec.ravel()\n",
    "inp_data[:, 5] = 16*vec.ravel()\n",
    "inp_data[:, 7] = 64*vec.ravel()\n",
    "inp_data[:, 9] = 256*vec.ravel()\n",
    "\n",
    "inp_data2 = np.zeros((vec2.shape[0], num_steps))\n",
    "inp_data2[:, 1] = vec2.ravel()\n",
    "inp_data2[:, 3] = 4*vec2.ravel()\n",
    "inp_data2[:, 5] = 16*vec2.ravel()\n",
    "inp_data2[:, 7] = 64*vec2.ravel()\n",
    "inp_data2[:, 9] = 256*vec2.ravel()"
   ]
  },
  {
   "cell_type": "code",
   "execution_count": 14,
   "id": "a108c232",
   "metadata": {},
   "outputs": [],
   "source": [
    "# instantiate the objects\n",
    "invec1 = lv.InputVec(inp_data, loihi2=use_loihi2)\n",
    "invec2 = lv.InputVec(inp_data2, loihi2=use_loihi2)\n",
    "\n",
    "in_out_syn1 = lv.GradedDense(weights=weights, exp=weight_exp)\n",
    "in_out_syn2 = lv.GradedDense(weights=weights2, exp=weight_exp)\n",
    "\n",
    "outvec = lv.GradedVec(shape=(weights.shape[0],), vth=1)\n",
    "\n",
    "out_monitor = lv.OutputVec(shape=outvec.shape, buffer=num_steps, loihi2=use_loihi2)\n"
   ]
  },
  {
   "cell_type": "code",
   "execution_count": 15,
   "id": "5c7e9258",
   "metadata": {},
   "outputs": [
    {
     "data": {
      "text/plain": [
       "<lava.networks.gradedvecnetwork.OutputVec at 0x7ff3482e58b0>"
      ]
     },
     "execution_count": 15,
     "metadata": {},
     "output_type": "execute_result"
    }
   ],
   "source": [
    "# compute the dot product of both input streams and add together\n",
    "outvec << in_out_syn1 @ invec1 + in_out_syn2 @ invec2\n",
    "out_monitor << outvec"
   ]
  },
  {
   "cell_type": "code",
   "execution_count": 16,
   "id": "e44b8e6f",
   "metadata": {},
   "outputs": [],
   "source": [
    "try:\n",
    "    outvec.run(condition=lv.RunSteps(num_steps=num_steps),\n",
    "              run_cfg=run_cfg) # Loihi2SimCfg(select_tag='fixed_pt')\n",
    "    out_data = out_monitor.get_data()\n",
    "finally:\n",
    "    outvec.stop()"
   ]
  },
  {
   "cell_type": "code",
   "execution_count": 17,
   "id": "b0c7abf8",
   "metadata": {},
   "outputs": [
    {
     "data": {
      "text/plain": [
       "array([[  120,   478,  1909,  7630, 30520],\n",
       "       [   17,    69,   271,  1080,  4320],\n",
       "       [   22,    83,   340,  1360,  5440]], dtype=int32)"
      ]
     },
     "execution_count": 17,
     "metadata": {},
     "output_type": "execute_result"
    }
   ],
   "source": [
    "out_data[:,2:11:2]"
   ]
  },
  {
   "cell_type": "code",
   "execution_count": 18,
   "id": "97106421",
   "metadata": {},
   "outputs": [
    {
     "data": {
      "text/plain": [
       "array([120.,  17.,  22.])"
      ]
     },
     "execution_count": 18,
     "metadata": {},
     "output_type": "execute_result"
    }
   ],
   "source": [
    "weights @ vec + weights2 @ vec2"
   ]
  },
  {
   "cell_type": "markdown",
   "id": "3ebf3be9",
   "metadata": {},
   "source": [
    "Again we see the output results matching the numpy calculations, perhaps with some differences due to rounding."
   ]
  },
  {
   "cell_type": "markdown",
   "id": "4f773ae8",
   "metadata": {},
   "source": [
    "## More algebra syntax\n",
    "\n",
    "Another function that occurs under-the-hood is the creation of Identity connections when connecting vectors. \n",
    "\n",
    "This can also be supported with the addition operator.\n",
    "\n",
    "Just have to make sure the vector shapes are correct!"
   ]
  },
  {
   "cell_type": "code",
   "execution_count": 19,
   "id": "aa7f0c48",
   "metadata": {},
   "outputs": [],
   "source": [
    "# Defining two input streams\n",
    "vec = np.array([40, 30, 20, 10])\n",
    "weights = np.zeros((4,4))\n",
    "weights[:, 0] = [8, 9, -7, -2]\n",
    "weights[:, 1] = [9, 8, -5, 2]\n",
    "weights[:, 2] = [8, -10, -4, 5]\n",
    "weights[:, 3] = [8, -10, -3, -9]\n",
    "\n",
    "vec2 = np.array([50, -50, 20, -20])\n",
    "weights2 = np.zeros((4,4))\n",
    "weights2[:, 0] = [3, -5, 4, -6]\n",
    "weights2[:, 1] = [0, -2, -10, 0]\n",
    "weights2[:, 2] = [6, 8, -4, 4]\n",
    "weights2[:, 3] = [-5, 7, -7, 8]\n",
    "\n",
    "weights3 = np.random.randint(20, size=(4,4)) - 10\n",
    "weights3 = weights3 / 10\n",
    "\n",
    "weights /= 10\n",
    "weights2 /= 10\n",
    "\n",
    "weight_exp = 7"
   ]
  },
  {
   "cell_type": "code",
   "execution_count": 20,
   "id": "7d7aaff8",
   "metadata": {},
   "outputs": [],
   "source": [
    "num_steps=16\n",
    "\n",
    "inp_data = np.zeros((vec.shape[0], num_steps))\n",
    "inp_data[:, 1] = vec.ravel()\n",
    "inp_data[:, 3] = 4*vec.ravel()\n",
    "inp_data[:, 5] = 16*vec.ravel()\n",
    "inp_data[:, 7] = 64*vec.ravel()\n",
    "inp_data[:, 9] = 256*vec.ravel()\n",
    "\n",
    "inp_data2 = np.zeros((vec2.shape[0], num_steps))\n",
    "inp_data2[:, 1] = vec2.ravel()\n",
    "inp_data2[:, 3] = 4*vec2.ravel()\n",
    "inp_data2[:, 5] = 16*vec2.ravel()\n",
    "inp_data2[:, 7] = 64*vec2.ravel()\n",
    "inp_data2[:, 9] = 256*vec2.ravel()"
   ]
  },
  {
   "cell_type": "code",
   "execution_count": 21,
   "id": "237a8090",
   "metadata": {},
   "outputs": [],
   "source": [
    "# instantiate the objects\n",
    "invec1 = lv.InputVec(inp_data, loihi2=use_loihi2)\n",
    "invec2 = lv.InputVec(inp_data2, loihi2=use_loihi2)\n",
    "\n",
    "in_out_syn1 = lv.GradedDense(weights=weights, exp=weight_exp)\n",
    "in_out_syn2 = lv.GradedDense(weights=weights2, exp=weight_exp)\n",
    "\n",
    "extra_syn = lv.GradedDense(weights=weights3, exp=weight_exp)\n",
    "\n",
    "intvec1 = lv.GradedVec(shape=(weights.shape[0],), vth=1)\n",
    "intvec2 = lv.GradedVec(shape=(weights.shape[0],), vth=1)\n",
    "\n",
    "outvec = lv.GradedVec(shape=(weights.shape[0],), vth=1)\n",
    "out_monitor = lv.OutputVec(shape=outvec.shape, buffer=num_steps, loihi2=use_loihi2)\n"
   ]
  },
  {
   "cell_type": "code",
   "execution_count": 22,
   "id": "20055ec5",
   "metadata": {},
   "outputs": [
    {
     "data": {
      "text/plain": [
       "<lava.networks.gradedvecnetwork.OutputVec at 0x7ff3482e9a90>"
      ]
     },
     "execution_count": 22,
     "metadata": {},
     "output_type": "execute_result"
    }
   ],
   "source": [
    "intvec1 << in_out_syn1 @ invec1\n",
    "intvec2 << in_out_syn2 @ invec2\n",
    "\n",
    "outvec << intvec1 + intvec2 + extra_syn @ intvec1\n",
    "out_monitor << outvec\n"
   ]
  },
  {
   "cell_type": "code",
   "execution_count": 23,
   "id": "7d9a8b98",
   "metadata": {},
   "outputs": [],
   "source": [
    "try:\n",
    "    outvec.run(condition=lv.RunSteps(num_steps=num_steps),\n",
    "              run_cfg=run_cfg) # Loihi2SimCfg(select_tag='fixed_pt')\n",
    "    out_data = out_monitor.get_data()\n",
    "finally:\n",
    "    outvec.stop()"
   ]
  },
  {
   "cell_type": "code",
   "execution_count": 24,
   "id": "c45ca11b",
   "metadata": {},
   "outputs": [
    {
     "data": {
      "text/plain": [
       "array([[   168,    670,   2678,  10705,  42817],\n",
       "       [    -7,    -28,   -118,   -476,  -1900],\n",
       "       [   123,    484,   1941,   7757,  31030],\n",
       "       [   -68,   -276,  -1103,  -4415, -17659]], dtype=int32)"
      ]
     },
     "execution_count": 24,
     "metadata": {},
     "output_type": "execute_result"
    }
   ],
   "source": [
    "out_data[:,3:12:2]"
   ]
  },
  {
   "cell_type": "code",
   "execution_count": 25,
   "id": "c7c61f8b",
   "metadata": {},
   "outputs": [
    {
     "data": {
      "text/plain": [
       "array([168.8,  -7.4, 123.8, -69.6])"
      ]
     },
     "execution_count": 25,
     "metadata": {},
     "output_type": "execute_result"
    }
   ],
   "source": [
    "weights @ vec + weights2 @ vec2 + weights3 @ weights @ vec"
   ]
  },
  {
   "cell_type": "code",
   "execution_count": null,
   "id": "4217586c",
   "metadata": {},
   "outputs": [],
   "source": []
  }
 ],
 "metadata": {
  "kernelspec": {
   "display_name": "Python 3 (ipykernel)",
   "language": "python",
   "name": "python3"
  },
  "language_info": {
   "codemirror_mode": {
    "name": "ipython",
    "version": 3
   },
   "file_extension": ".py",
   "mimetype": "text/x-python",
   "name": "python",
   "nbconvert_exporter": "python",
   "pygments_lexer": "ipython3",
   "version": "3.8.10"
  }
 },
 "nbformat": 4,
 "nbformat_minor": 5
}
