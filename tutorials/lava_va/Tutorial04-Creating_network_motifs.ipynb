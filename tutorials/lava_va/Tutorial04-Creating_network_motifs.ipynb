{
 "cells": [
  {
   "cell_type": "markdown",
   "id": "b420cc24",
   "metadata": {},
   "source": [
    "*Copyright (C) 2022-23 Intel Corporation*<br>\n",
    "*SPDX-License-Identifier: BSD-3-Clause*<br>\n",
    "*See: https://spdx.org/licenses/*\n",
    "\n",
    "---\n",
    "\n",
    "# Tutorial: Creating network motifs\n",
    "\n",
    "**Motivation:** In this tutorial, we will provide a walkthrough on how to create custom network motifs with Lava-VA. The Lava-VA Network is a recursive hierarchical container for creating reusable components. Custom motifs can be created with basic python syntax and links to standard components of the Lava-VA Network.\n"
   ]
  },
  {
   "cell_type": "code",
   "execution_count": 1,
   "id": "72b82564",
   "metadata": {},
   "outputs": [],
   "source": [
    "from pylab import *"
   ]
  },
  {
   "cell_type": "markdown",
   "id": "41f00cf8",
   "metadata": {},
   "source": [
    "First, we will import the objects into the lv namespace and connect to Loihi 2."
   ]
  },
  {
   "cell_type": "code",
   "execution_count": 2,
   "id": "4d85a200",
   "metadata": {},
   "outputs": [],
   "source": [
    "import lava.frameworks.loihi2 as lv"
   ]
  },
  {
   "cell_type": "code",
   "execution_count": 3,
   "id": "c7047153",
   "metadata": {},
   "outputs": [],
   "source": [
    "from scipy.sparse import csr_matrix"
   ]
  },
  {
   "cell_type": "code",
   "execution_count": 4,
   "id": "2a68a562",
   "metadata": {},
   "outputs": [
    {
     "name": "stdout",
     "output_type": "stream",
     "text": [
      "Running on Loihi 2\n"
     ]
    }
   ],
   "source": [
    "from lava.utils import loihi\n",
    "\n",
    "loihi.use_slurm_host(loihi_gen=loihi.ChipGeneration.N3B3)\n",
    "use_loihi2 = loihi.is_installed()\n",
    "#use_loihi2 = False\n",
    "\n",
    "if use_loihi2:\n",
    "    run_cfg = lv.Loihi2HwCfg()\n",
    "    print(\"Running on Loihi 2\")\n",
    "else:\n",
    "    run_cfg = lv.Loihi2SimCfg(select_tag='fixed_pt')\n",
    "    print(\"Loihi2 compiler is not available in this system. \"\n",
    "          \"This tutorial will execute on CPU backend.\")"
   ]
  },
  {
   "cell_type": "markdown",
   "id": "8f9ad5c7",
   "metadata": {},
   "source": [
    "Our goal for this tutorial is to create a simple memory buffer network. This is also often called a shift register in standard digital electronics. \n",
    "\n",
    "In particular, our design will consist of a population of GradedVec neurons, which transmit graded spike values. We want to connect the population with a recurrent matrix, so that each value is transferred to the neighboring neuron on the next timestep. \n",
    "\n",
    "Further, we want to incorporate the operator overloading. To do so we can inherit from the AlgebraicVector class that includes the overloading function. "
   ]
  },
  {
   "cell_type": "code",
   "execution_count": 5,
   "id": "4b250b2d",
   "metadata": {},
   "outputs": [],
   "source": [
    "from lava.networks.network import AlgebraicVector\n",
    "\n",
    "class MemoryBuffer(AlgebraicVector):\n",
    "    def __init__(self, shape):\n",
    "        self.shape = shape\n",
    "        \n",
    "        # Create the weight matrix \n",
    "        rec_weights = np.roll(np.eye(self.shape[0]), 1, axis=0)\n",
    "        \n",
    "        # Instantiate the core Network objects\n",
    "        self.main = lv.GradedVec(shape=shape, vth=1)\n",
    "        self.buf_weights = lv.GradedSparse(weights=rec_weights)\n",
    "        \n",
    "        # Create the network motif by connecting the recurrent \n",
    "        # weights to the neural population\n",
    "        self.main << self.buf_weights @ self.main\n",
    "\n",
    "        # Connect the standard ports\n",
    "        self.in_port = self.main.in_port\n",
    "        self.out_port = self.main.out_port\n",
    "        \n",
    "        "
   ]
  },
  {
   "cell_type": "markdown",
   "id": "cf9bc778",
   "metadata": {},
   "source": [
    "Now that we've created our custom network motif, we can use it in a simulation."
   ]
  },
  {
   "cell_type": "code",
   "execution_count": 6,
   "id": "521eb200",
   "metadata": {},
   "outputs": [],
   "source": [
    "num_steps = 20\n",
    "mem_buffer_size = (50,)"
   ]
  },
  {
   "cell_type": "code",
   "execution_count": 7,
   "id": "0881a1ef",
   "metadata": {},
   "outputs": [],
   "source": [
    "inp_data = np.zeros((1, num_steps))\n",
    "\n",
    "inp_data[:, 1] = 2\n",
    "inp_data[:, 3] = 4\n",
    "inp_data[:, 5] = 8\n",
    "inp_data[:, 7] = 16\n",
    "inp_data[:, 9] = 32\n",
    "inp_data[:, 11] = 64\n",
    "\n",
    "in_weights = np.zeros((mem_buffer_size[0], 1))\n",
    "in_weights[0] = 1"
   ]
  },
  {
   "cell_type": "code",
   "execution_count": 8,
   "id": "51d9a920",
   "metadata": {},
   "outputs": [],
   "source": [
    "invec = lv.InputVec(inp_data, loihi2=use_loihi2)\n",
    "\n",
    "in_out_syn = lv.GradedDense(weights=in_weights)\n",
    "\n",
    "memvec = MemoryBuffer(shape=mem_buffer_size)\n",
    "\n",
    "out_monitor = lv.OutputVec(shape=mem_buffer_size, buffer=num_steps, loihi2=use_loihi2)\n"
   ]
  },
  {
   "cell_type": "code",
   "execution_count": 9,
   "id": "f861a87f",
   "metadata": {},
   "outputs": [
    {
     "data": {
      "text/plain": [
       "<lava.networks.gradedvecnetwork.OutputVec at 0x7efd941b6c40>"
      ]
     },
     "execution_count": 9,
     "metadata": {},
     "output_type": "execute_result"
    }
   ],
   "source": [
    "memvec << in_out_syn @ invec\n",
    "out_monitor << memvec"
   ]
  },
  {
   "cell_type": "code",
   "execution_count": 10,
   "id": "fcc17544",
   "metadata": {},
   "outputs": [],
   "source": [
    "try:\n",
    "    memvec.run(condition=lv.RunSteps(num_steps=num_steps), \n",
    "            run_cfg=run_cfg)\n",
    "    out_spike_data = out_monitor.get_data()\n",
    "finally:\n",
    "    memvec.stop()"
   ]
  },
  {
   "cell_type": "code",
   "execution_count": 11,
   "id": "ac427ab4",
   "metadata": {
    "scrolled": true
   },
   "outputs": [
    {
     "data": {
      "text/plain": [
       "[<matplotlib.lines.Line2D at 0x7efddee44cd0>]"
      ]
     },
     "execution_count": 11,
     "metadata": {},
     "output_type": "execute_result"
    },
    {
     "data": {
      "image/png": "[encoded data removed]",
      "text/plain": [
       "<Figure size 640x480 with 1 Axes>"
      ]
     },
     "metadata": {},
     "output_type": "display_data"
    }
   ],
   "source": [
    "plot(out_spike_data[:, -1])\n"
   ]
  },
  {
   "cell_type": "markdown",
   "id": "92b21619",
   "metadata": {},
   "source": [
    "The above network shows the last timestep of the memory buffer in the simulation. Here, we turned a temporal pattern into a spatial pattern using a simple permutation motif. "
   ]
  },
  {
   "cell_type": "code",
   "execution_count": null,
   "id": "55b4c89d",
   "metadata": {},
   "outputs": [],
   "source": []
  }
 ],
 "metadata": {
  "kernelspec": {
   "display_name": "Python 3 (ipykernel)",
   "language": "python",
   "name": "python3"
  },
  "language_info": {
   "codemirror_mode": {
    "name": "ipython",
    "version": 3
   },
   "file_extension": ".py",
   "mimetype": "text/x-python",
   "name": "python",
   "nbconvert_exporter": "python",
   "pygments_lexer": "ipython3",
   "version": "3.8.10"
  }
 },
 "nbformat": 4,
 "nbformat_minor": 5
}
