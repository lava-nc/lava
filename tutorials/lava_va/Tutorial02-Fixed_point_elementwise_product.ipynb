{
 "cells": [
  {
   "cell_type": "markdown",
   "id": "2e52884c",
   "metadata": {},
   "source": [
    "*Copyright (C) 2022-23 Intel Corporation*<br>\n",
    "*SPDX-License-Identifier: BSD-3-Clause*<br>\n",
    "*See: https://spdx.org/licenses/*\n",
    "\n",
    "---\n",
    "\n",
    "# Tutorial 2: Elementwise products\n",
    "\n",
    "**Motivation:** In this tutorial, we will highlight more of the standard library included with Lava-VA. Here we demonstrate the element-wise product of vectors using ProductVec.\n",
    "\n",
    "\n"
   ]
  },
  {
   "cell_type": "markdown",
   "id": "64990f4f",
   "metadata": {},
   "source": [
    "First, we make the imports and connect to Loihi 2."
   ]
  },
  {
   "cell_type": "code",
   "execution_count": 1,
   "id": "72b82564",
   "metadata": {},
   "outputs": [],
   "source": [
    "from pylab import *"
   ]
  },
  {
   "cell_type": "code",
   "execution_count": 2,
   "id": "af33e13b",
   "metadata": {},
   "outputs": [],
   "source": [
    "import lava.frameworks.loihi2 as lv"
   ]
  },
  {
   "cell_type": "code",
   "execution_count": 3,
   "id": "2a68a562",
   "metadata": {},
   "outputs": [
    {
     "name": "stdout",
     "output_type": "stream",
     "text": [
      "Running on Loihi 2\n"
     ]
    }
   ],
   "source": [
    "from lava.utils import loihi\n",
    "\n",
    "loihi.use_slurm_host(loihi_gen=loihi.ChipGeneration.N3B3)\n",
    "use_loihi2 = loihi.is_installed()\n",
    "\n",
    "if use_loihi2:\n",
    "    run_cfg = lv.Loihi2HwCfg()\n",
    "    print(\"Running on Loihi 2\")\n",
    "else:\n",
    "    run_cfg = lv.Loihi2SimCfg(select_tag='fixed_pt')\n",
    "    print(\"Loihi2 compiler is not available in this system. \"\n",
    "          \"This tutorial will execute on CPU backend.\")"
   ]
  },
  {
   "cell_type": "markdown",
   "id": "c1ff4fcd",
   "metadata": {},
   "source": [
    "Next, we will setup the inputs and initialize the input weights."
   ]
  },
  {
   "cell_type": "code",
   "execution_count": 4,
   "id": "d0065b52",
   "metadata": {},
   "outputs": [],
   "source": [
    "num_steps = 10\n",
    "weights1 = np.zeros((5,1))\n",
    "weights2 = np.zeros((5,1))\n",
    "\n",
    "weights1[:,0] = [2, 6, 10, -2, -6]\n",
    "weights2[:,0] = [4, 8, 12, -4, 8]\n",
    "\n",
    "weights1 /= 16\n",
    "weights2 /= 16\n",
    "\n",
    "inp_shape = (weights1.shape[1],)\n",
    "out_shape = (weights1.shape[0],)\n",
    "\n",
    "inp_data = np.zeros((inp_shape[0], num_steps))\n",
    "inp_data[:, 2] = 16\n",
    "inp_data[:, 6] = 32"
   ]
  },
  {
   "cell_type": "markdown",
   "id": "5c40fe2e",
   "metadata": {},
   "source": [
    "Then we instantiate the objects in the network."
   ]
  },
  {
   "cell_type": "code",
   "execution_count": 5,
   "id": "b6f6a23c",
   "metadata": {},
   "outputs": [],
   "source": [
    "dense1 = lv.GradedDense(weights=weights1)\n",
    "dense2 = lv.GradedDense(weights=weights2)\n",
    "\n",
    "vec = lv.ProductVec(shape=out_shape, vth=1, exp=0)\n",
    "\n",
    "generator1 = lv.InputVec(inp_data, loihi2=use_loihi2)\n",
    "generator2 = lv.InputVec(inp_data, loihi2=use_loihi2)\n",
    "monitor = lv.OutputVec(shape=out_shape, buffer=num_steps,\n",
    "                       loihi2=True)"
   ]
  },
  {
   "cell_type": "markdown",
   "id": "5bddeb53",
   "metadata": {},
   "source": [
    "In this case, ProductVec is an object that has two input channels. We can access those input channels by concatenating the objects and \"piping\" them into the ProductVec layer. "
   ]
  },
  {
   "cell_type": "code",
   "execution_count": 6,
   "id": "73392fbe",
   "metadata": {},
   "outputs": [
    {
     "data": {
      "text/plain": [
       "<lava.networks.gradedvecnetwork.OutputVec at 0x7efd9972deb0>"
      ]
     },
     "execution_count": 6,
     "metadata": {},
     "output_type": "execute_result"
    }
   ],
   "source": [
    "vec << (dense1 @ generator1, dense2 @ generator2)\n",
    "monitor << vec"
   ]
  },
  {
   "cell_type": "code",
   "execution_count": 7,
   "id": "aaff1295",
   "metadata": {},
   "outputs": [],
   "source": [
    "try:\n",
    "    vec.run(condition=lv.RunSteps(num_steps=num_steps),\n",
    "              run_cfg=run_cfg)\n",
    "    out_data = monitor.get_data()\n",
    "finally:\n",
    "    vec.stop()"
   ]
  },
  {
   "cell_type": "code",
   "execution_count": 8,
   "id": "154e2cb5",
   "metadata": {},
   "outputs": [
    {
     "data": {
      "text/plain": [
       "array([[   8,   32],\n",
       "       [  48,  192],\n",
       "       [ 120,  480],\n",
       "       [   8,   32],\n",
       "       [ -48, -192]], dtype=int32)"
      ]
     },
     "execution_count": 8,
     "metadata": {},
     "output_type": "execute_result"
    }
   ],
   "source": [
    "out_data[:, (3,7)]"
   ]
  },
  {
   "cell_type": "code",
   "execution_count": 9,
   "id": "af0e7ae4",
   "metadata": {},
   "outputs": [
    {
     "data": {
      "text/plain": [
       "array([  8.,  48., 120.,   8., -48.])"
      ]
     },
     "execution_count": 9,
     "metadata": {},
     "output_type": "execute_result"
    }
   ],
   "source": [
    "(weights1 @ inp_data[:,2]) * (weights2 @ inp_data[:,2])"
   ]
  },
  {
   "cell_type": "markdown",
   "id": "37462a5e",
   "metadata": {},
   "source": [
    "We can see that this matches the numpy calculation."
   ]
  },
  {
   "cell_type": "markdown",
   "id": "8b442585",
   "metadata": {},
   "source": [
    "## Multiplication operator overload\n",
    "\n",
    "Similar to addition, the multiplication operator is overloaded inside of GradedVec to enable the use of algebraic syntax to compute the elementwise product.\n"
   ]
  },
  {
   "cell_type": "code",
   "execution_count": 10,
   "id": "cfaeb662",
   "metadata": {},
   "outputs": [],
   "source": [
    "dense1 = lv.GradedDense(weights=weights1)\n",
    "dense2 = lv.GradedDense(weights=weights2)\n",
    "\n",
    "vec1 = lv.GradedVec(shape=out_shape, vth=1, exp=0)\n",
    "vec2 = lv.GradedVec(shape=out_shape, vth=1, exp=0)\n",
    "\n",
    "outvec = lv.GradedVec(shape=out_shape, vth=1, exp=0)\n",
    "\n",
    "generator1 = lv.InputVec(inp_data, loihi2=use_loihi2)\n",
    "generator2 = lv.InputVec(inp_data, loihi2=use_loihi2)\n",
    "monitor = lv.OutputVec(shape=out_shape, buffer=num_steps,\n",
    "                       loihi2=True)\n"
   ]
  },
  {
   "cell_type": "code",
   "execution_count": 11,
   "id": "709a42d5",
   "metadata": {},
   "outputs": [
    {
     "data": {
      "text/plain": [
       "<lava.networks.gradedvecnetwork.OutputVec at 0x7efd9972dd30>"
      ]
     },
     "execution_count": 11,
     "metadata": {},
     "output_type": "execute_result"
    }
   ],
   "source": [
    "vec1 << dense1 @ generator1\n",
    "vec2 << dense2 @ generator2\n",
    "outvec << vec1 * vec2\n",
    "monitor << outvec"
   ]
  },
  {
   "cell_type": "code",
   "execution_count": 12,
   "id": "3a0fc3a4",
   "metadata": {},
   "outputs": [],
   "source": [
    "try:\n",
    "    vec1.run(condition=lv.RunSteps(num_steps=num_steps),\n",
    "              run_cfg=run_cfg)\n",
    "    out_data = monitor.get_data()\n",
    "finally:\n",
    "    vec1.stop()"
   ]
  },
  {
   "cell_type": "code",
   "execution_count": 13,
   "id": "95ca186e",
   "metadata": {},
   "outputs": [
    {
     "data": {
      "text/plain": [
       "array([[  8],\n",
       "       [ 48],\n",
       "       [120],\n",
       "       [  8],\n",
       "       [-48]], dtype=int32)"
      ]
     },
     "execution_count": 13,
     "metadata": {},
     "output_type": "execute_result"
    }
   ],
   "source": [
    "out_data[:, (5,)] "
   ]
  },
  {
   "cell_type": "code",
   "execution_count": null,
   "id": "6e80b63c",
   "metadata": {},
   "outputs": [],
   "source": []
  }
 ],
 "metadata": {
  "kernelspec": {
   "display_name": "Python 3 (ipykernel)",
   "language": "python",
   "name": "python3"
  },
  "language_info": {
   "codemirror_mode": {
    "name": "ipython",
    "version": 3
   },
   "file_extension": ".py",
   "mimetype": "text/x-python",
   "name": "python",
   "nbconvert_exporter": "python",
   "pygments_lexer": "ipython3",
   "version": "3.8.10"
  }
 },
 "nbformat": 4,
 "nbformat_minor": 5
}
