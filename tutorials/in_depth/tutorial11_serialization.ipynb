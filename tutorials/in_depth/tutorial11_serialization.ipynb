{
 "cells": [
  {
   "cell_type": "markdown",
   "metadata": {},
   "source": [
    "*Copyright (C) 2023 Intel Corporation*<br>\n",
    "*SPDX-License-Identifier: BSD-3-Clause*<br>\n",
    "*See: https://spdx.org/licenses/*\n",
    "\n",
    "---\n",
    "\n",
    "# Serialization of Lava networks\n",
    "\n",
    "A Lava network can be saved to and later loaded from a file, this is also called serialization. Serialization of Lava networks, a list of Lava processes which are optionally connected and/or compiled, is based on the pickle module from python. The pickle module implements binary protocols for serializing and de-serializing a Python object structure.\n",
    "\n",
    "\n",
    "<img src=\"https://raw.githubusercontent.com/lava-nc/lava-nc.github.io/main/_images/lava_notebooks_in_depth_tutorial11_serialization.png\" width=\"600\" align=\"center\"/>\n",
    "\n",
    "Serialization of compiled Lava networks allows to easily share bigger Lava networks and to execute pre-compiled networks. This enables to run networks which take a long time to compile faster, which decreases the time to execution. Pre-compilation also enables the execution of complex networks on embedded environments, which otherwise would suffer from long compilation times.\n",
    "\n",
    "> **⚠️ Warning**  \n",
    "> Using `save` and `load` is not secure. Only load data you trust.\n",
    "> As it uses pickle it is possible to construct malicious data which will execute arbitrary code during loading. Never load data that could have come from an untrusted source, or that could have been tampered with.\n",
    ">\n",
    "> Consider signing data with `hmac` if you need to ensure that it has not been tampered with."
   ]
  },
  {
   "cell_type": "markdown",
   "metadata": {},
   "source": [
    "## Interface\n",
    "\n",
    "A list of configured Lava processes can be stored in a file by calling `save`. The arguments are a Lava process or a list of Lava processes, a string defining the path and name of the file and a Executable object. The Executable object is needed to store compiled Lava networks.\n",
    "\n",
    "```\n",
    "save(processes, filename, executable=None)\n",
    "```\n",
    "As default file extension `.pickle` is used, if no other file extension is provided in the argument `filename`.\n",
    "\n",
    "Stored Lava processes and their corresponding executable can be retrieved by calling `load`. The argument is a string defining the path and name of the file. The function returns the list of stored Lava processes and the corresponding executable.\n",
    "```\n",
    "processes, executable = load(filename)\n",
    "```"
   ]
  },
  {
   "cell_type": "markdown",
   "metadata": {},
   "source": [
    "## Example"
   ]
  },
  {
   "cell_type": "code",
   "execution_count": 17,
   "metadata": {},
   "outputs": [],
   "source": [
    "import numpy as np\n",
    "import tempfile\n",
    "from lava.proc.lif.process import LIF\n",
    "from lava.proc.dense.process import Dense\n",
    "from lava.magma.core.run_configs import Loihi2SimCfg\n",
    "from lava.magma.core.run_conditions import RunSteps\n",
    "from lava.utils.serialization import save, load"
   ]
  },
  {
   "cell_type": "markdown",
   "metadata": {},
   "source": [
    "A simple LIF->Dense->LIF network is configured."
   ]
  },
  {
   "cell_type": "code",
   "execution_count": 18,
   "metadata": {},
   "outputs": [],
   "source": [
    "pre_size = 2\n",
    "post_size = 3\n",
    "\n",
    "# Create network\n",
    "weights = np.ones((post_size, pre_size))\n",
    "\n",
    "lif_in = LIF(shape=(pre_size,), bias_mant=100, vth=120,\n",
    "                    name=\"LIF_neuron input\")\n",
    "dense = Dense(weights=weights * 10, name=\"Dense\")\n",
    "lif_out = LIF(shape=(post_size,), bias_mant=0, vth=50000,\n",
    "                    name=\"LIF_neuron output\")\n",
    "\n",
    "# Connect the processes\n",
    "lif_in.s_out.connect(dense.s_in)\n",
    "dense.a_out.connect(lif_out.a_in)"
   ]
  },
  {
   "cell_type": "markdown",
   "metadata": {},
   "source": [
    "In order to store a compiled version of the Lava network an `executable` is needed. Calling `compile` on a Lava process compiles the process and all its connected processes and returns an `executable`."
   ]
  },
  {
   "cell_type": "code",
   "execution_count": 19,
   "metadata": {},
   "outputs": [],
   "source": [
    "# Create executable\n",
    "ex = lif_in.compile(run_cfg=Loihi2SimCfg())"
   ]
  },
  {
   "cell_type": "markdown",
   "metadata": {},
   "source": [
    "Storing all Lava processes and the corresponding executable in a file using `save`.\n",
    "> **ℹ️ Note**  \n",
    "> The context manager `TemporaryDirectory` is used to prevent write permission errors and ensure the clean up of created files from this tutorial. The context manager is not necessary or recommended when using `save` and `load`.\n",
    "\n",
    "Afterwords, the list of processes and their corresponding executable are retrieved from the file using `load`."
   ]
  },
  {
   "cell_type": "code",
   "execution_count": 20,
   "metadata": {},
   "outputs": [],
   "source": [
    "# Context manager is used only to ensure clean up\n",
    "with tempfile.TemporaryDirectory() as tmpdirname:\n",
    "    # Store the Lava network\n",
    "    save(processes=[lif_in, lif_out, dense],\n",
    "         filename=tmpdirname + \"test\",\n",
    "         executable=ex)\n",
    "\n",
    "    # Load executable again\n",
    "    procs, loaded_ex = load(tmpdirname + \"test.pickle\")"
   ]
  },
  {
   "cell_type": "markdown",
   "metadata": {},
   "source": [
    "The list of processes was assigned to `procs`. These process instances are not equal to the instances created initially, although they contain the same information and behave the same way. Also the loaded executable is not equal to the initially created executable.\n",
    "\n",
    "Looking at the list of processes shows which processes have been loaded from the file. To use the processes again they can be assigned to new variables."
   ]
  },
  {
   "cell_type": "code",
   "execution_count": 21,
   "metadata": {},
   "outputs": [
    {
     "name": "stdout",
     "output_type": "stream",
     "text": [
      "[<lava.proc.lif.process.LIF object at 0x7fc461a4ff40>, <lava.proc.lif.process.LIF object at 0x7fc461abf370>, <lava.proc.dense.process.Dense object at 0x7fc461abfc40>]\n"
     ]
    }
   ],
   "source": [
    "print(procs)\n",
    "input_lif = procs[0]\n",
    "output_lif = procs[1]"
   ]
  },
  {
   "cell_type": "markdown",
   "metadata": {},
   "source": [
    "Using the loaded `executable` a runtime needs to be created in order to execute the compiled Lava network. If `create_runtime` is not used, then the processes will be compiled again when calling `run`. For pre-compiled networks this should be avoided."
   ]
  },
  {
   "cell_type": "code",
   "execution_count": 22,
   "metadata": {},
   "outputs": [],
   "source": [
    "# Create the runtime from the loaded executable\n",
    "input_lif.create_runtime(executable=loaded_ex)"
   ]
  },
  {
   "cell_type": "markdown",
   "metadata": {},
   "source": [
    "Finally, the network is executed and the voltage and current of the input and output LIF neurons are stored."
   ]
  },
  {
   "cell_type": "code",
   "execution_count": 23,
   "metadata": {},
   "outputs": [],
   "source": [
    "num_steps = 5\n",
    "output_lif_in_v = np.zeros(shape=(pre_size, num_steps))\n",
    "output_lif_out_u = np.zeros(shape=(post_size, num_steps))\n",
    "\n",
    "# Execute the network and retrieve voltage and current\n",
    "try:\n",
    "    for i in range(num_steps):\n",
    "        input_lif.run(condition=RunSteps(num_steps=1))\n",
    "\n",
    "        output_lif_in_v[:, i] = input_lif.v.get()\n",
    "        output_lif_out_u[:, i] = output_lif.u.get()\n",
    "finally:\n",
    "    input_lif.stop()"
   ]
  },
  {
   "cell_type": "markdown",
   "metadata": {},
   "source": [
    "Showing the results."
   ]
  },
  {
   "cell_type": "code",
   "execution_count": 24,
   "metadata": {},
   "outputs": [
    {
     "name": "stdout",
     "output_type": "stream",
     "text": [
      "Voltage of 2 input LIF neurons over time steps: \n",
      "[[100.   0. 100.   0. 100.]\n",
      " [100.   0. 100.   0. 100.]]\n",
      "Current of 3 output LIF neurons over time steps: \n",
      "[[ 0.  0. 20. 20. 40.]\n",
      " [ 0.  0. 20. 20. 40.]\n",
      " [ 0.  0. 20. 20. 40.]]\n"
     ]
    }
   ],
   "source": [
    "print(\"Voltage of 2 input LIF neurons over time steps: \")\n",
    "print(output_lif_in_v)\n",
    "print(\"Current of 3 output LIF neurons over time steps: \")\n",
    "print(output_lif_out_u)"
   ]
  },
  {
   "cell_type": "markdown",
   "metadata": {},
   "source": [
    "A hierarchical process can also be stored to a file and all used sub-processes will be available after retrieving it again from a file. This is helpful to create a pre-compiled network, which can be accessed and executed through a single variable."
   ]
  },
  {
   "cell_type": "markdown",
   "metadata": {},
   "source": [
    "## How to learn more?\n",
    "\n",
    "If you want to find out more about Lava, have a look at the [Lava documentation](https://lava-nc.org).\n",
    "\n",
    "To receive regular updates on the latest developments and releases of the Lava Software Framework please subscribe to the [INRC newsletter](http://eepurl.com/hJCyhb)."
   ]
  }
 ],
 "metadata": {
  "kernelspec": {
   "display_name": "Python 3",
   "language": "python",
   "name": "python3"
  },
  "language_info": {
   "codemirror_mode": {
    "name": "ipython",
    "version": 3
   },
   "file_extension": ".py",
   "mimetype": "text/x-python",
   "name": "python",
   "nbconvert_exporter": "python",
   "pygments_lexer": "ipython3",
   "version": "3.8.10"
  },
  "orig_nbformat": 4
 },
 "nbformat": 4,
 "nbformat_minor": 2
}
